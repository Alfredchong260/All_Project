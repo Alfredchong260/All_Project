{
 "cells": [
  {
   "cell_type": "markdown",
   "id": "ed876968",
   "metadata": {},
   "source": [
    "# 作业1"
   ]
  },
  {
   "cell_type": "code",
   "execution_count": null,
   "id": "cf654c1a",
   "metadata": {},
   "outputs": [],
   "source": [
    "\"\"\"\n",
    "分别创建一维数组、二维数组、三维数组、四维数组\n",
    "\"\"\""
   ]
  },
  {
   "cell_type": "code",
   "execution_count": null,
   "id": "774dce40",
   "metadata": {},
   "outputs": [],
   "source": []
  },
  {
   "cell_type": "markdown",
   "id": "cd0baaea",
   "metadata": {},
   "source": [
    "## 作业2"
   ]
  },
  {
   "cell_type": "code",
   "execution_count": 16,
   "id": "e4cf0dc2",
   "metadata": {},
   "outputs": [],
   "source": [
    "\"\"\"\n",
    "要求:\n",
    "    取0 - 1 的均匀分布的数, 形状设置为36行2列\n",
    "    绘制散点图\n",
    "    绘制折线图\n",
    "\"\"\""
   ]
  },
  {
   "cell_type": "code",
   "execution_count": null,
   "id": "c812b9e7",
   "metadata": {},
   "outputs": [],
   "source": []
  }
 ],
 "metadata": {
  "kernelspec": {
   "display_name": "Python 3",
   "language": "python",
   "name": "python3"
  },
  "language_info": {
   "codemirror_mode": {
    "name": "ipython",
    "version": 3
   },
   "file_extension": ".py",
   "mimetype": "text/x-python",
   "name": "python",
   "nbconvert_exporter": "python",
   "pygments_lexer": "ipython3",
   "version": "3.8.8"
  },
  "toc": {
   "base_numbering": 1,
   "nav_menu": {},
   "number_sections": true,
   "sideBar": true,
   "skip_h1_title": false,
   "title_cell": "Table of Contents",
   "title_sidebar": "Contents",
   "toc_cell": false,
   "toc_position": {},
   "toc_section_display": true,
   "toc_window_display": false
  }
 },
 "nbformat": 4,
 "nbformat_minor": 5
}
