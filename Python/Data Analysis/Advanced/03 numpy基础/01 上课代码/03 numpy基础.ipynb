{
 "cells": [
  {
   "cell_type": "markdown",
   "id": "9dda43da",
   "metadata": {},
   "source": [
    "# Numpy"
   ]
  },
  {
   "cell_type": "markdown",
   "id": "28c04310",
   "metadata": {},
   "source": [
    "## numpy介绍"
   ]
  },
  {
   "cell_type": "code",
   "execution_count": 3,
   "id": "9cbec506",
   "metadata": {},
   "outputs": [],
   "source": [
    "import numpy as np\n",
    "import time\n"
   ]
  },
  {
   "cell_type": "code",
   "execution_count": 6,
   "id": "d677cf06",
   "metadata": {},
   "outputs": [
    {
     "data": {
      "text/plain": [
       "array([[80, 89, 86, 67, 79],\n",
       "       [78, 97, 89, 67, 81],\n",
       "       [90, 94, 78, 67, 74],\n",
       "       [91, 91, 90, 67, 69],\n",
       "       [76, 87, 75, 67, 86],\n",
       "       [70, 79, 84, 67, 84],\n",
       "       [94, 92, 93, 67, 64],\n",
       "       [86, 85, 83, 67, 80]])"
      ]
     },
     "execution_count": 6,
     "metadata": {},
     "output_type": "execute_result"
    }
   ],
   "source": [
    "arr= np.array(\n",
    "    [\n",
    "        [80, 89, 86, 67, 79],\n",
    "        [78, 97, 89, 67, 81],\n",
    "        [90, 94, 78, 67, 74],\n",
    "        [91, 91, 90, 67, 69],\n",
    "        [76, 87, 75, 67, 86],\n",
    "        [70, 79, 84, 67, 84],\n",
    "        [94, 92, 93, 67, 64],\n",
    "        [86, 85, 83, 67, 80]\n",
    "    ]\n",
    ")\n",
    "arr\n",
    "# array 数组对象"
   ]
  },
  {
   "cell_type": "markdown",
   "id": "09073026",
   "metadata": {},
   "source": [
    "## 性能对比"
   ]
  },
  {
   "cell_type": "code",
   "execution_count": 4,
   "id": "52d82ef8",
   "metadata": {},
   "outputs": [
    {
     "name": "stdout",
     "output_type": "stream",
     "text": [
      "列表执行时间： 0.31528592109680176\n"
     ]
    }
   ],
   "source": [
    "\n",
    "# Python列表的方式\n",
    "t1 = time.time()\n",
    "a = []\n",
    "for x in range(1000000):\n",
    "    a.append(x**2)\n",
    "t2 = time.time()\n",
    "t = t2 - t1\n",
    "print('列表执行时间：', t)"
   ]
  },
  {
   "cell_type": "code",
   "execution_count": 5,
   "id": "b1f378e7",
   "metadata": {},
   "outputs": [
    {
     "name": "stdout",
     "output_type": "stream",
     "text": [
      "np 执行时间： 0.0030028820037841797\n"
     ]
    }
   ],
   "source": [
    "t3 = time.time()\n",
    "b = np.arange(1000000) ** 2\n",
    "t4 = time.time()\n",
    "print('np 执行时间：', t4 - t3)"
   ]
  },
  {
   "cell_type": "code",
   "execution_count": 7,
   "id": "7dd4ee69",
   "metadata": {},
   "outputs": [
    {
     "data": {
      "text/plain": [
       "[array([80, 89, 86, 67, 79]),\n",
       " array([78, 97, 89, 67, 81]),\n",
       " array([90, 94, 78, 67, 74]),\n",
       " array([91, 91, 90, 67, 69]),\n",
       " array([76, 87, 75, 67, 86]),\n",
       " array([70, 79, 84, 67, 84]),\n",
       " array([94, 92, 93, 67, 64]),\n",
       " array([86, 85, 83, 67, 80])]"
      ]
     },
     "execution_count": 7,
     "metadata": {},
     "output_type": "execute_result"
    }
   ],
   "source": []
  },
  {
   "cell_type": "markdown",
   "id": "511f4ba3",
   "metadata": {},
   "source": [
    "## 矩阵运算"
   ]
  },
  {
   "cell_type": "code",
   "execution_count": 11,
   "id": "d308b8b6",
   "metadata": {},
   "outputs": [
    {
     "name": "stdout",
     "output_type": "stream",
     "text": [
      "score + 10: \n",
      " [[11 11]\n",
      " [12 12]\n",
      " [13 13]\n",
      " [14 14]\n",
      " [15 15]]\n",
      "list1 + 10: \n",
      " [1, 2, 3, 4, 5, 6, 10]\n"
     ]
    }
   ],
   "source": [
    "score = np.array(\n",
    "    [\n",
    "        [1, 1],\n",
    "        [2, 2],\n",
    "        [3, 3],\n",
    "        [4, 4],\n",
    "        [5, 5],\n",
    "    ]\n",
    ")\n",
    "\n",
    "list1 = [1,2,3,4,5,6]  # Python的原生列表不支持相关运算\n",
    "\n",
    "print('score + 10: \\n',score + 10)\n",
    "print('list1 + 10: \\n',list1 + [10])\n",
    "\n",
    "# 基于数组对象的广播机制"
   ]
  },
  {
   "cell_type": "markdown",
   "id": "50d9ae2f",
   "metadata": {},
   "source": [
    "## 高维数据"
   ]
  },
  {
   "cell_type": "code",
   "execution_count": 12,
   "id": "3df3eeda",
   "metadata": {},
   "outputs": [
    {
     "data": {
      "text/plain": [
       "array([1, 2, 3, 4, 5])"
      ]
     },
     "execution_count": 12,
     "metadata": {},
     "output_type": "execute_result"
    }
   ],
   "source": [
    "\"\"\"一维\"\"\"\n",
    "np.array([1, 2, 3, 4, 5])"
   ]
  },
  {
   "cell_type": "code",
   "execution_count": 13,
   "id": "6a8264de",
   "metadata": {},
   "outputs": [
    {
     "data": {
      "text/plain": [
       "array([[33, 33],\n",
       "       [44, 44],\n",
       "       [ 5, 55]])"
      ]
     },
     "execution_count": 13,
     "metadata": {},
     "output_type": "execute_result"
    }
   ],
   "source": [
    "\"\"\"二维\"\"\"\n",
    "np.array(\n",
    "    [ # 一维的维度\n",
    "        [33, 33], # 二维的维度\n",
    "        [44, 44],\n",
    "        [5, 55],\n",
    "    ]\n",
    ")"
   ]
  },
  {
   "cell_type": "code",
   "execution_count": 17,
   "id": "dd0a6d26",
   "metadata": {},
   "outputs": [
    {
     "data": {
      "text/plain": [
       "array([[[33, 33],\n",
       "        [44, 44],\n",
       "        [ 5, 55]],\n",
       "\n",
       "       [[33, 33],\n",
       "        [44, 44],\n",
       "        [ 5, 55]]])"
      ]
     },
     "execution_count": 17,
     "metadata": {},
     "output_type": "execute_result"
    }
   ],
   "source": [
    "\"\"\"三维\"\"\"\n",
    "score_arr = np.array(\n",
    "    [# 一维的维度\n",
    "        [ # 二维的维度\n",
    "            [33, 33], # 三维的维度\n",
    "            [44, 44],\n",
    "            [5, 55],\n",
    "#             [5, 55]\n",
    "        ],\n",
    "        \n",
    "        [ # 二维的维度\n",
    "            [33, 33], # 三维的维度\n",
    "            [44, 44],\n",
    "            [5, 55],\n",
    "        ],\n",
    "    ]\n",
    ")\n",
    "\n",
    "# 在数组中, 每个维度的数据数据量要相等\n",
    "\n",
    "# 高维数据就是套娃, 一维套二维, 二维套三维 .......\n",
    "score_arr"
   ]
  },
  {
   "cell_type": "markdown",
   "id": "2c7ddad7",
   "metadata": {},
   "source": [
    "## array数组中的属性"
   ]
  },
  {
   "cell_type": "code",
   "execution_count": 19,
   "id": "b3233c9f",
   "metadata": {},
   "outputs": [
    {
     "name": "stdout",
     "output_type": "stream",
     "text": [
      "array 的形状:  (2, 3, 2)\n"
     ]
    }
   ],
   "source": [
    "print('array 的形状: ', score_arr.shape)"
   ]
  },
  {
   "cell_type": "code",
   "execution_count": 20,
   "id": "71de104a",
   "metadata": {},
   "outputs": [
    {
     "name": "stdout",
     "output_type": "stream",
     "text": [
      "array 的形状:  3\n"
     ]
    }
   ],
   "source": [
    "print('array 的维度: ', score_arr.ndim)"
   ]
  },
  {
   "cell_type": "code",
   "execution_count": 21,
   "id": "21b6ffbf",
   "metadata": {},
   "outputs": [
    {
     "name": "stdout",
     "output_type": "stream",
     "text": [
      "array 的维度:  12\n"
     ]
    }
   ],
   "source": [
    "print('array 的数据数据量: ', score_arr.size)"
   ]
  },
  {
   "cell_type": "code",
   "execution_count": 22,
   "id": "34015077",
   "metadata": {},
   "outputs": [
    {
     "name": "stdout",
     "output_type": "stream",
     "text": [
      "array 一个元素所占字节大小:  4\n"
     ]
    }
   ],
   "source": [
    "print('array 一个元素所占字节大小: ', score_arr.itemsize)"
   ]
  },
  {
   "cell_type": "code",
   "execution_count": 23,
   "id": "aaeaebbf",
   "metadata": {},
   "outputs": [
    {
     "name": "stdout",
     "output_type": "stream",
     "text": [
      "array 数组的类型:  int32\n"
     ]
    }
   ],
   "source": [
    "print('array 数组的类型: ', score_arr.dtype)"
   ]
  },
  {
   "cell_type": "markdown",
   "id": "cc896873",
   "metadata": {},
   "source": [
    "## 生成数据的基本方法"
   ]
  },
  {
   "cell_type": "markdown",
   "id": "48b2ca28",
   "metadata": {},
   "source": [
    "- 生成指定形状<4行8列的数据>，内容为1的数据对象"
   ]
  },
  {
   "cell_type": "code",
   "execution_count": 24,
   "id": "625a79cf",
   "metadata": {},
   "outputs": [
    {
     "data": {
      "text/plain": [
       "array([[1., 1., 1., 1., 1., 1., 1., 1.],\n",
       "       [1., 1., 1., 1., 1., 1., 1., 1.],\n",
       "       [1., 1., 1., 1., 1., 1., 1., 1.],\n",
       "       [1., 1., 1., 1., 1., 1., 1., 1.]])"
      ]
     },
     "execution_count": 24,
     "metadata": {},
     "output_type": "execute_result"
    }
   ],
   "source": [
    "np.ones([4, 8])"
   ]
  },
  {
   "cell_type": "code",
   "execution_count": 25,
   "id": "66c5a3f8",
   "metadata": {},
   "outputs": [
    {
     "data": {
      "text/plain": [
       "array([[0., 0., 0., 0., 0., 0., 0., 0.],\n",
       "       [0., 0., 0., 0., 0., 0., 0., 0.],\n",
       "       [0., 0., 0., 0., 0., 0., 0., 0.],\n",
       "       [0., 0., 0., 0., 0., 0., 0., 0.]])"
      ]
     },
     "execution_count": 25,
     "metadata": {},
     "output_type": "execute_result"
    }
   ],
   "source": [
    "np.zeros([4, 8])"
   ]
  },
  {
   "cell_type": "markdown",
   "id": "6dcc1108",
   "metadata": {},
   "source": [
    "- 通过列表创建"
   ]
  },
  {
   "cell_type": "code",
   "execution_count": 26,
   "id": "5ce35a29",
   "metadata": {},
   "outputs": [
    {
     "data": {
      "text/plain": [
       "array([[11, 22],\n",
       "       [33, 44]])"
      ]
     },
     "execution_count": 26,
     "metadata": {},
     "output_type": "execute_result"
    }
   ],
   "source": [
    "list1 = [[11, 22], [33, 44]]\n",
    "np.array(list1)"
   ]
  },
  {
   "cell_type": "markdown",
   "id": "a0c7f0a2",
   "metadata": {},
   "source": [
    "## 生成数据的常用方法"
   ]
  },
  {
   "cell_type": "markdown",
   "id": "3843c6b0",
   "metadata": {},
   "source": [
    "### 构造数据范围内的等分数列"
   ]
  },
  {
   "cell_type": "code",
   "execution_count": 27,
   "id": "2ed18ef5",
   "metadata": {},
   "outputs": [
    {
     "data": {
      "text/plain": [
       "array([  0.,  10.,  20.,  30.,  40.,  50.,  60.,  70.,  80.,  90., 100.])"
      ]
     },
     "execution_count": 27,
     "metadata": {},
     "output_type": "execute_result"
    }
   ],
   "source": [
    "np.linspace(0, 100, 11)  # 指定 0 - 100 的范围划分成11分"
   ]
  },
  {
   "cell_type": "code",
   "execution_count": 28,
   "id": "9ab1dc9a",
   "metadata": {},
   "outputs": [
    {
     "data": {
      "text/plain": [
       "array([ 0.        ,  9.09090909, 18.18181818, 27.27272727, 36.36363636,\n",
       "       45.45454545, 54.54545455, 63.63636364, 72.72727273, 81.81818182,\n",
       "       90.90909091])"
      ]
     },
     "execution_count": 28,
     "metadata": {},
     "output_type": "execute_result"
    }
   ],
   "source": [
    "np.linspace(0, 100, 11, endpoint=False)  # endpoint 最后一个数字在不在范围内"
   ]
  },
  {
   "cell_type": "markdown",
   "id": "ae2e7fec",
   "metadata": {},
   "source": [
    "### 构造等差数列"
   ]
  },
  {
   "cell_type": "code",
   "execution_count": 30,
   "id": "56cf716a",
   "metadata": {},
   "outputs": [
    {
     "data": {
      "text/plain": [
       "array([11, 13, 15, 17, 19, 21, 23, 25, 27, 29, 31, 33, 35, 37, 39, 41, 43,\n",
       "       45, 47, 49])"
      ]
     },
     "execution_count": 30,
     "metadata": {},
     "output_type": "execute_result"
    }
   ],
   "source": [
    "np.arange(11, 51, 2)"
   ]
  },
  {
   "cell_type": "markdown",
   "id": "d5b2d373",
   "metadata": {},
   "source": [
    "### 构造等比数列"
   ]
  },
  {
   "cell_type": "markdown",
   "id": "cbfaba56",
   "metadata": {},
   "source": [
    "- 构造等比数列: 默认构造的是一个从10的0次方到10的5次方的等比数列，这个等比数列的长度是6个元素"
   ]
  },
  {
   "cell_type": "code",
   "execution_count": 31,
   "id": "ddfd2d32",
   "metadata": {},
   "outputs": [
    {
     "data": {
      "text/plain": [
       "array([1.e+00, 1.e+01, 1.e+02, 1.e+03, 1.e+04, 1.e+05])"
      ]
     },
     "execution_count": 31,
     "metadata": {},
     "output_type": "execute_result"
    }
   ],
   "source": [
    "np.logspace(0, 5, 6)"
   ]
  },
  {
   "cell_type": "code",
   "execution_count": 32,
   "id": "9d24f254",
   "metadata": {},
   "outputs": [
    {
     "data": {
      "text/plain": [
       "array([ 1.,  2.,  4.,  8., 16., 32.])"
      ]
     },
     "execution_count": 32,
     "metadata": {},
     "output_type": "execute_result"
    }
   ],
   "source": [
    "np.logspace(0, 5, 6, base=2)"
   ]
  },
  {
   "cell_type": "raw",
   "id": "26d038ad",
   "metadata": {},
   "source": [
    "\"\"\"\n",
    "科学记数：1.e + 02 此格式用指数表示法显示数字，\n",
    "以 E+n 替换部分数字，其中 E（代表指数）表示将前面的数字1乘以 10 的 2 次幂。\n",
    "\"\"\""
   ]
  },
  {
   "cell_type": "markdown",
   "id": "53018ef8",
   "metadata": {},
   "source": [
    "## 随机数组"
   ]
  },
  {
   "cell_type": "markdown",
   "id": "ae9c5abd",
   "metadata": {},
   "source": [
    "### 正态分布"
   ]
  },
  {
   "cell_type": "code",
   "execution_count": 33,
   "id": "986b0754",
   "metadata": {},
   "outputs": [
    {
     "data": {
      "text/plain": [
       "0.1938475821531219"
      ]
     },
     "execution_count": 33,
     "metadata": {},
     "output_type": "execute_result"
    }
   ],
   "source": [
    "np.random.randn()  # 从标准正态分布中返回一个值"
   ]
  },
  {
   "cell_type": "code",
   "execution_count": 34,
   "id": "268a1f3c",
   "metadata": {},
   "outputs": [
    {
     "data": {
      "text/plain": [
       "array([-0.07499884,  0.74466294,  0.81356122, -1.67933875, -0.25258145])"
      ]
     },
     "execution_count": 34,
     "metadata": {},
     "output_type": "execute_result"
    }
   ],
   "source": [
    "np.random.randn(5)"
   ]
  },
  {
   "cell_type": "markdown",
   "id": "f343270d",
   "metadata": {},
   "source": [
    "**np.random.normal(loc=0.0, scale=1.0, size=None)**\n",
    "\n",
    "    -loc：float   此概率分布的均值（对应着整个分布的中心centre）\n",
    "\n",
    "    - scale：float   此概率分布的标准差（对应于分布的宽度，scale越大越矮胖，scale越小，越瘦高）\n",
    "\n",
    "    - size：int or tuple of ints   输出的shape，默认为None，只输出一个值"
   ]
  },
  {
   "cell_type": "code",
   "execution_count": 36,
   "id": "e826378a",
   "metadata": {},
   "outputs": [],
   "source": [
    "np.random.normal(0, 1)"
   ]
  },
  {
   "cell_type": "code",
   "execution_count": 37,
   "id": "769376af",
   "metadata": {},
   "outputs": [
    {
     "data": {
      "text/plain": [
       "array([[1.94507475, 1.10948243, 0.87118123],\n",
       "       [0.32364476, 0.72639791, 2.57359794],\n",
       "       [0.35021178, 0.03650155, 0.40254536]])"
      ]
     },
     "execution_count": 37,
     "metadata": {},
     "output_type": "execute_result"
    }
   ],
   "source": [
    "np.random.normal(size=(3,3))"
   ]
  },
  {
   "cell_type": "code",
   "execution_count": 39,
   "id": "859d3b4a",
   "metadata": {},
   "outputs": [
    {
     "data": {
      "text/plain": [
       "array([[ 0.28616002, -0.90424397, -0.24205878, -0.80274049,  0.32427491,\n",
       "         1.07787189],\n",
       "       [ 1.10356844, -0.13153579, -0.2071569 , -0.31705134, -0.16756627,\n",
       "         1.11108826],\n",
       "       [ 0.91395066, -0.53926524, -1.77836085, -0.25343716, -1.68652402,\n",
       "         0.74806298],\n",
       "       [-0.00954718,  0.89809257,  2.7630789 ,  0.77760268,  0.64912398,\n",
       "         1.26413801],\n",
       "       [-0.67349149, -0.49108347,  0.14767324, -0.49415663,  0.44972684,\n",
       "         0.69628156],\n",
       "       [ 0.86651909,  1.82411313,  0.88837675,  0.92174385,  0.10093456,\n",
       "         1.6552589 ]])"
      ]
     },
     "execution_count": 39,
     "metadata": {},
     "output_type": "execute_result"
    }
   ],
   "source": [
    "np.random.standard_normal(size=(6, 6))"
   ]
  },
  {
   "cell_type": "markdown",
   "id": "075a7935",
   "metadata": {},
   "source": [
    "- 案例"
   ]
  },
  {
   "cell_type": "code",
   "execution_count": 43,
   "id": "053a7408",
   "metadata": {},
   "outputs": [
    {
     "data": {
      "image/png": "[encoded data removed]",
      "text/plain": [
       "<Figure size 2000x800 with 1 Axes>"
      ]
     },
     "metadata": {
      "needs_background": "light"
     },
     "output_type": "display_data"
    }
   ],
   "source": [
    "# 生成均值为1.75，标准差为1的正态分布数据\n",
    "x1 = np.random.normal(1.75, 1, 100000)\n",
    "\n",
    "import matplotlib.pyplot as plt\n",
    "\n",
    "# 1.创建画布\n",
    "plt.figure(figsize=(20, 8), dpi=100)\n",
    "\n",
    "# 2.绘制图像\n",
    "plt.hist(x1, 1000)\n",
    "\n",
    "# 3.显示图像\n",
    "plt.show()"
   ]
  },
  {
   "cell_type": "markdown",
   "id": "d0b72e95",
   "metadata": {},
   "source": [
    "### 均匀分布"
   ]
  },
  {
   "cell_type": "markdown",
   "id": "3b72446d",
   "metadata": {},
   "source": [
    "- np.random.rand(*d0*, *d1*, *...*, *dn*)\n",
    "\n",
    "    - 返回**[0.0，1.0)**内的一组均匀分布的数。\n",
    "    - 可以指定形状"
   ]
  },
  {
   "cell_type": "code",
   "execution_count": 44,
   "id": "ed785fed",
   "metadata": {},
   "outputs": [
    {
     "data": {
      "text/plain": [
       "0.4255894741734364"
      ]
     },
     "execution_count": 44,
     "metadata": {},
     "output_type": "execute_result"
    }
   ],
   "source": [
    "np.random.rand()  # 随机取一个"
   ]
  },
  {
   "cell_type": "code",
   "execution_count": 45,
   "id": "d290155b",
   "metadata": {},
   "outputs": [
    {
     "data": {
      "text/plain": [
       "array([0.00676657, 0.51409932, 0.11781106, 0.8893156 , 0.4259377 ,\n",
       "       0.43098689, 0.40144704, 0.34556416, 0.5016899 , 0.27868013])"
      ]
     },
     "execution_count": 45,
     "metadata": {},
     "output_type": "execute_result"
    }
   ],
   "source": [
    "np.random.rand(10) "
   ]
  },
  {
   "cell_type": "code",
   "execution_count": 46,
   "id": "569d9b10",
   "metadata": {},
   "outputs": [
    {
     "data": {
      "text/plain": [
       "array([[0.70023315, 0.6855372 , 0.75790374],\n",
       "       [0.74346805, 0.36358618, 0.23807998],\n",
       "       [0.97975563, 0.65479124, 0.24362613]])"
      ]
     },
     "execution_count": 46,
     "metadata": {},
     "output_type": "execute_result"
    }
   ],
   "source": [
    "np.random.rand(3, 3) "
   ]
  },
  {
   "cell_type": "markdown",
   "id": "656131e7",
   "metadata": {},
   "source": [
    "**np.random.uniform(low=0.0, high=1.0, size=None)**\n",
    "\n",
    "+ 功能：从一个均匀分布[low,high)中随机采样，注意定义域是左闭右开，即包含low，不包含high.\n",
    "+ 参数介绍:\n",
    "  + low: 采样下界，float类型，默认值为0；\n",
    "  + high: 采样上界，float类型，默认值为1；\n",
    "  + size: 输出样本数目，为int或元组(tuple)类型，例如，size=(m,n,k), 则输出m*n*k个样本，缺省时输出1个值。"
   ]
  },
  {
   "cell_type": "code",
   "execution_count": 47,
   "id": "a5b31ff1",
   "metadata": {},
   "outputs": [
    {
     "data": {
      "text/plain": [
       "16.731661007500648"
      ]
     },
     "execution_count": 47,
     "metadata": {},
     "output_type": "execute_result"
    }
   ],
   "source": [
    "np.random.uniform(10, 20)"
   ]
  },
  {
   "cell_type": "code",
   "execution_count": 48,
   "id": "d040e41c",
   "metadata": {},
   "outputs": [
    {
     "data": {
      "text/plain": [
       "array([[10.06802509, 16.97652443, 10.80013037],\n",
       "       [16.75461043, 12.47216303, 13.95130244],\n",
       "       [15.46536039, 18.58636454, 14.58828712]])"
      ]
     },
     "execution_count": 48,
     "metadata": {},
     "output_type": "execute_result"
    }
   ],
   "source": [
    "np.random.uniform(10, 20, size=(3,3))"
   ]
  },
  {
   "cell_type": "markdown",
   "id": "4d0cbf85",
   "metadata": {},
   "source": [
    "np.random.randint(*low*, *high=None*, *size=None*, *dtype='l'*)\n",
    "\n",
    "+ 从一个均匀分布中随机采样，生成一个整数或N维整数数组\n",
    "+ 取数范围：若high不为None时，取[low,high)之间随机整数，否则取值[0,low)之间随机整数。"
   ]
  },
  {
   "cell_type": "code",
   "execution_count": 50,
   "id": "8837dd81",
   "metadata": {},
   "outputs": [
    {
     "data": {
      "text/plain": [
       "array([[4, 2, 3, 4, 2, 3],\n",
       "       [2, 2, 4, 4, 2, 4],\n",
       "       [4, 3, 4, 2, 4, 4],\n",
       "       [3, 2, 2, 3, 4, 3],\n",
       "       [4, 3, 3, 3, 4, 3],\n",
       "       [4, 4, 4, 3, 4, 2]])"
      ]
     },
     "execution_count": 50,
     "metadata": {},
     "output_type": "execute_result"
    }
   ],
   "source": [
    "np.random.randint(2, 5, size=(6,6))"
   ]
  },
  {
   "cell_type": "code",
   "execution_count": 51,
   "id": "df27d4f5",
   "metadata": {},
   "outputs": [
    {
     "data": {
      "text/plain": [
       "array([2, 2, 2, 3, 4, 2])"
      ]
     },
     "execution_count": 51,
     "metadata": {},
     "output_type": "execute_result"
    }
   ],
   "source": [
    "np.random.randint(2, 5, size=6)"
   ]
  },
  {
   "cell_type": "code",
   "execution_count": 52,
   "id": "4307bbc6",
   "metadata": {},
   "outputs": [
    {
     "data": {
      "text/plain": [
       "2"
      ]
     },
     "execution_count": 52,
     "metadata": {},
     "output_type": "execute_result"
    }
   ],
   "source": [
    "np.random.randint(2, 5)"
   ]
  },
  {
   "cell_type": "markdown",
   "id": "821bd286",
   "metadata": {},
   "source": [
    "- 案例:均匀分布"
   ]
  },
  {
   "cell_type": "code",
   "execution_count": 53,
   "id": "e2226452",
   "metadata": {},
   "outputs": [
    {
     "data": {
      "image/png": "[encoded data removed]",
      "text/plain": [
       "<Figure size 1000x1000 with 1 Axes>"
      ]
     },
     "metadata": {
      "needs_background": "light"
     },
     "output_type": "display_data"
    }
   ],
   "source": [
    "\n",
    "\n",
    "# 生成均匀分布的随机数\n",
    "x2 = np.random.uniform(-1, 1, 100000000)\n",
    "\n",
    "# 画图看分布状况\n",
    "# 1）创建画布\n",
    "plt.figure(figsize=(10, 10), dpi=100)\n",
    "\n",
    "# 2）绘制直方图\n",
    "plt.hist(x=x2, bins=1000)  # x代表要使用的数据，bins表示要划分区间数\n",
    "\n",
    "# 3）显示图像\n",
    "plt.show()"
   ]
  },
  {
   "cell_type": "code",
   "execution_count": null,
   "id": "e9c99e26",
   "metadata": {},
   "outputs": [],
   "source": []
  },
  {
   "cell_type": "code",
   "execution_count": null,
   "id": "873210e6",
   "metadata": {},
   "outputs": [],
   "source": []
  }
 ],
 "metadata": {
  "kernelspec": {
   "display_name": "Python 3",
   "language": "python",
   "name": "python3"
  },
  "language_info": {
   "codemirror_mode": {
    "name": "ipython",
    "version": 3
   },
   "file_extension": ".py",
   "mimetype": "text/x-python",
   "name": "python",
   "nbconvert_exporter": "python",
   "pygments_lexer": "ipython3",
   "version": "3.8.8"
  },
  "toc": {
   "base_numbering": 1,
   "nav_menu": {},
   "number_sections": true,
   "sideBar": true,
   "skip_h1_title": false,
   "title_cell": "Table of Contents",
   "title_sidebar": "Contents",
   "toc_cell": false,
   "toc_position": {},
   "toc_section_display": true,
   "toc_window_display": true
  }
 },
 "nbformat": 4,
 "nbformat_minor": 5
}
