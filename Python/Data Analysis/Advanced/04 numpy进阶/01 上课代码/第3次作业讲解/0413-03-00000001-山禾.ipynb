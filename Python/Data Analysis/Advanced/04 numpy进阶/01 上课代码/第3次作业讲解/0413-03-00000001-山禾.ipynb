{
 "cells": [
  {
   "cell_type": "markdown",
   "id": "ed876968",
   "metadata": {},
   "source": [
    "# 作业1"
   ]
  },
  {
   "cell_type": "code",
   "execution_count": null,
   "id": "cf654c1a",
   "metadata": {},
   "outputs": [],
   "source": [
    "\"\"\"\n",
    "分别创建一维数组、二维数组、三维数组、四维数组\n",
    "\"\"\""
   ]
  },
  {
   "cell_type": "code",
   "execution_count": 1,
   "id": "774dce40",
   "metadata": {},
   "outputs": [],
   "source": [
    "import numpy as np"
   ]
  },
  {
   "cell_type": "code",
   "execution_count": 3,
   "id": "bad1553a",
   "metadata": {},
   "outputs": [
    {
     "data": {
      "text/plain": [
       "(5,)"
      ]
     },
     "execution_count": 3,
     "metadata": {},
     "output_type": "execute_result"
    }
   ],
   "source": [
    "\"\"\"一维数组\"\"\"\n",
    "np.array([1, 2, 3, 4, 5])"
   ]
  },
  {
   "cell_type": "code",
   "execution_count": null,
   "id": "b51f52af",
   "metadata": {},
   "outputs": [],
   "source": [
    "\"\"\"二维数组\"\"\"\n",
    "np.array(\n",
    "    [ # 一维\n",
    "        [1, 2, 3, 4, 5],  # 二维\n",
    "        [1, 2, 3, 4, 5],  # 二维\n",
    "    ]\n",
    ")"
   ]
  },
  {
   "cell_type": "code",
   "execution_count": null,
   "id": "a19ae6c3",
   "metadata": {},
   "outputs": [],
   "source": [
    "\n",
    "\"\"\"三维数组\"\"\"\n",
    "np.array(\n",
    "    [  # 一维\n",
    "        [ # 二维\n",
    "            [1, 2, 3, 4, 5],  # 三维\n",
    "            [1, 2, 3, 4, 5],  \n",
    "        ],\n",
    "        \n",
    "        [ # 二维\n",
    "            [1, 2, 3, 4, 5],  # 三维\n",
    "            [1, 2, 3, 4, 5],  \n",
    "        ]\n",
    "    ]\n",
    ")"
   ]
  },
  {
   "cell_type": "code",
   "execution_count": null,
   "id": "23798ebc",
   "metadata": {},
   "outputs": [],
   "source": [
    "\n",
    "\"\"\"四维数组\"\"\"\n",
    "np.array(\n",
    "    [ # 一维\n",
    "        [  # 二维\n",
    "            [ # 三维\n",
    "                [1, 2, 3, 4, 5],  # 四维\n",
    "                [1, 2, 3, 4, 5],  \n",
    "            ],\n",
    "\n",
    "            [ # 三维\n",
    "                [1, 2, 3, 4, 5],  # 四维\n",
    "                [1, 2, 3, 4, 5],  \n",
    "            ]\n",
    "        ],\n",
    "        \n",
    "        [  # 二维\n",
    "            [ # 三维\n",
    "                [1, 2, 3, 4, 5],  # 四维\n",
    "                [1, 2, 3, 4, 5],  \n",
    "            ],\n",
    "\n",
    "            [ # 三维\n",
    "                [1, 2, 3, 4, 5],  # 四维\n",
    "                [1, 2, 3, 4, 5],  \n",
    "            ]\n",
    "        ]\n",
    "    ]\n",
    ")"
   ]
  },
  {
   "cell_type": "markdown",
   "id": "cd0baaea",
   "metadata": {},
   "source": [
    "## 作业2"
   ]
  },
  {
   "cell_type": "code",
   "execution_count": 16,
   "id": "e4cf0dc2",
   "metadata": {},
   "outputs": [],
   "source": [
    "\"\"\"\n",
    "要求:\n",
    "    取0 - 1 的均匀分布的数, 形状设置为36行2列\n",
    "    绘制散点图\n",
    "    绘制折线图\n",
    "\"\"\""
   ]
  },
  {
   "cell_type": "code",
   "execution_count": 6,
   "id": "c812b9e7",
   "metadata": {},
   "outputs": [
    {
     "data": {
      "text/plain": [
       "array([[ 0.57464727, -1.43742062],\n",
       "       [ 0.73392508,  0.95209618],\n",
       "       [-1.33572974, -0.27698079],\n",
       "       [ 0.50969117,  0.10113781],\n",
       "       [ 0.51246183,  0.77522041],\n",
       "       [-0.75543851,  0.25570345],\n",
       "       [ 1.70322859,  0.41597482],\n",
       "       [ 0.78637848, -1.09123882],\n",
       "       [ 0.04875405, -0.15399484],\n",
       "       [-0.0189978 , -0.36256041],\n",
       "       [-1.23075364, -0.29041525],\n",
       "       [ 1.80039508, -0.25347734],\n",
       "       [-0.23171101,  0.19414647],\n",
       "       [ 0.9720043 ,  1.21627323],\n",
       "       [-0.5259015 ,  0.93036432],\n",
       "       [ 1.99437932,  1.53482424],\n",
       "       [ 0.56061268,  1.85117052],\n",
       "       [ 0.11512274,  1.67972485],\n",
       "       [ 0.20009236, -0.61122111],\n",
       "       [-1.3470785 ,  1.15566737],\n",
       "       [ 0.44027605,  0.91023914],\n",
       "       [-0.09222635,  1.65341888],\n",
       "       [-1.60047315,  0.3064566 ],\n",
       "       [-0.88086026,  1.20336121],\n",
       "       [ 0.00644748, -1.77125859],\n",
       "       [-0.85319806,  0.50117037],\n",
       "       [ 0.13660688, -0.81304379],\n",
       "       [ 1.16006488,  1.49583204],\n",
       "       [-1.95055632,  0.31933368],\n",
       "       [ 0.70649313,  0.38001111],\n",
       "       [ 0.05449369,  0.83188048],\n",
       "       [-0.45857932, -0.32397166],\n",
       "       [ 0.54851346, -0.42425673],\n",
       "       [ 2.11623271, -2.03818218],\n",
       "       [ 0.57026281, -0.59802377],\n",
       "       [-1.54404427,  0.86051776]])"
      ]
     },
     "execution_count": 6,
     "metadata": {},
     "output_type": "execute_result"
    }
   ],
   "source": [
    "data = np.random.randn(36, 2)\n",
    "data"
   ]
  },
  {
   "cell_type": "code",
   "execution_count": 7,
   "id": "6a30453e",
   "metadata": {},
   "outputs": [
    {
     "data": {
      "text/plain": [
       "[0.5746472739616953,\n",
       " 0.73392508279266,\n",
       " -1.33572973543769,\n",
       " 0.5096911747833461,\n",
       " 0.5124618255165282,\n",
       " -0.7554385116148232,\n",
       " 1.7032285933556761,\n",
       " 0.7863784795739654,\n",
       " 0.04875405096929181,\n",
       " -0.018997796063037163,\n",
       " -1.230753642233005,\n",
       " 1.8003950751586213,\n",
       " -0.23171101479091705,\n",
       " 0.9720042967241521,\n",
       " -0.5259014981701488,\n",
       " 1.9943793171765234,\n",
       " 0.5606126753744661,\n",
       " 0.11512274424431847,\n",
       " 0.20009236480289536,\n",
       " -1.3470784990317428,\n",
       " 0.4402760453737777,\n",
       " -0.09222635336637579,\n",
       " -1.6004731549115199,\n",
       " -0.8808602638097606,\n",
       " 0.006447479742880053,\n",
       " -0.8531980565857239,\n",
       " 0.136606877919808,\n",
       " 1.1600648797854565,\n",
       " -1.9505563228402705,\n",
       " 0.7064931337091235,\n",
       " 0.05449368861968263,\n",
       " -0.4585793180041967,\n",
       " 0.5485134611957905,\n",
       " 2.116232713834549,\n",
       " 0.5702628093939562,\n",
       " -1.5440442684412108]"
      ]
     },
     "execution_count": 7,
     "metadata": {},
     "output_type": "execute_result"
    }
   ],
   "source": [
    "x_ticket = []\n",
    "y_ticket = []\n",
    "\n",
    "for x, y in data:\n",
    "    x_ticket.append(x)\n",
    "    y_ticket.append(y)\n",
    "\n",
    "x_ticket  "
   ]
  },
  {
   "cell_type": "code",
   "execution_count": 8,
   "id": "b42f0050",
   "metadata": {},
   "outputs": [
    {
     "data": {
      "text/plain": [
       "[-1.4374206190867944,\n",
       " 0.9520961843133395,\n",
       " -0.27698078863282155,\n",
       " 0.1011378136093422,\n",
       " 0.7752204056705843,\n",
       " 0.255703448361171,\n",
       " 0.41597481806144,\n",
       " -1.0912388191859506,\n",
       " -0.1539948402424542,\n",
       " -0.3625604083119764,\n",
       " -0.2904152495331125,\n",
       " -0.25347734178704,\n",
       " 0.19414647154495523,\n",
       " 1.2162732254645516,\n",
       " 0.9303643233789343,\n",
       " 1.5348242443809266,\n",
       " 1.8511705163460062,\n",
       " 1.6797248521673214,\n",
       " -0.6112211108725114,\n",
       " 1.1556673652500657,\n",
       " 0.910239144219532,\n",
       " 1.6534188845739533,\n",
       " 0.3064565996496564,\n",
       " 1.2033612093135648,\n",
       " -1.7712585869985287,\n",
       " 0.5011703721366939,\n",
       " -0.8130437922769159,\n",
       " 1.4958320419411177,\n",
       " 0.3193336849447341,\n",
       " 0.38001110534447574,\n",
       " 0.8318804760987981,\n",
       " -0.32397165622151897,\n",
       " -0.42425673000420583,\n",
       " -2.0381821810424956,\n",
       " -0.5980237712922155,\n",
       " 0.8605177554733514]"
      ]
     },
     "execution_count": 8,
     "metadata": {},
     "output_type": "execute_result"
    }
   ],
   "source": [
    "y_ticket  "
   ]
  },
  {
   "cell_type": "code",
   "execution_count": 11,
   "id": "fa562758",
   "metadata": {},
   "outputs": [
    {
     "data": {
      "text/plain": [
       "[<matplotlib.lines.Line2D at 0x23ef2c210d0>]"
      ]
     },
     "execution_count": 11,
     "metadata": {},
     "output_type": "execute_result"
    },
    {
     "data": {
      "image/png": "[encoded data removed]",
      "text/plain": [
       "<Figure size 432x288 with 1 Axes>"
      ]
     },
     "metadata": {
      "needs_background": "light"
     },
     "output_type": "display_data"
    }
   ],
   "source": [
    "import matplotlib.pyplot as plt\n",
    "\n",
    "\n",
    "plt.scatter(x_ticket, y_ticket, color='black')\n",
    "plt.plot(x_ticket, y_ticket)"
   ]
  },
  {
   "cell_type": "code",
   "execution_count": null,
   "id": "45fd7216",
   "metadata": {},
   "outputs": [],
   "source": []
  }
 ],
 "metadata": {
  "kernelspec": {
   "display_name": "Python 3",
   "language": "python",
   "name": "python3"
  },
  "language_info": {
   "codemirror_mode": {
    "name": "ipython",
    "version": 3
   },
   "file_extension": ".py",
   "mimetype": "text/x-python",
   "name": "python",
   "nbconvert_exporter": "python",
   "pygments_lexer": "ipython3",
   "version": "3.8.8"
  },
  "toc": {
   "base_numbering": 1,
   "nav_menu": {},
   "number_sections": true,
   "sideBar": true,
   "skip_h1_title": false,
   "title_cell": "Table of Contents",
   "title_sidebar": "Contents",
   "toc_cell": false,
   "toc_position": {
    "height": "calc(100% - 180px)",
    "left": "10px",
    "top": "150px",
    "width": "165px"
   },
   "toc_section_display": true,
   "toc_window_display": true
  }
 },
 "nbformat": 4,
 "nbformat_minor": 5
}
