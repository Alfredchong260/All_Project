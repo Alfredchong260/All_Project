{
 "cells": [
  {
   "cell_type": "markdown",
   "id": "ec5e3b66",
   "metadata": {},
   "source": [
    "# 数组的操作"
   ]
  },
  {
   "cell_type": "code",
   "execution_count": 1,
   "id": "e23c4357",
   "metadata": {},
   "outputs": [],
   "source": [
    "import numpy as np"
   ]
  },
  {
   "cell_type": "markdown",
   "id": "5a64bb67",
   "metadata": {},
   "source": [
    "## 修改数组的形状"
   ]
  },
  {
   "cell_type": "markdown",
   "id": "849890be",
   "metadata": {},
   "source": [
    "ndarray.reshape(shape, order)\n",
    "\n",
    "+ 返回一个具有相同数据域，但shape不一样的**视图**\n",
    "+ 行、列不进行互换"
   ]
  },
  {
   "cell_type": "code",
   "execution_count": 2,
   "id": "11f89702",
   "metadata": {},
   "outputs": [
    {
     "data": {
      "text/plain": [
       "array([[2, 3, 3, 3],\n",
       "       [3, 3, 2, 3],\n",
       "       [3, 3, 3, 2]])"
      ]
     },
     "execution_count": 2,
     "metadata": {},
     "output_type": "execute_result"
    }
   ],
   "source": [
    "array1 = np.random.randint(2, 4, size=(3, 4))\n",
    "array1"
   ]
  },
  {
   "cell_type": "code",
   "execution_count": 3,
   "id": "4f9af735",
   "metadata": {},
   "outputs": [
    {
     "data": {
      "text/plain": [
       "array([[2, 3, 3, 3, 3, 3, 2, 3, 3, 3, 3, 2]])"
      ]
     },
     "execution_count": 3,
     "metadata": {},
     "output_type": "execute_result"
    }
   ],
   "source": [
    "array1.reshape((1, 12))  # 基于原有的数组修改形状, 里面的数据数量要能对应上"
   ]
  },
  {
   "cell_type": "code",
   "execution_count": 4,
   "id": "cfeecf1d",
   "metadata": {},
   "outputs": [],
   "source": [
    "# array1.reshape((2, 5))  # 修改形状, 里面的数据数量如果对应不上就报错"
   ]
  },
  {
   "cell_type": "code",
   "execution_count": 5,
   "id": "df906f55",
   "metadata": {},
   "outputs": [],
   "source": [
    "array2 = array1.reshape((1, 12))"
   ]
  },
  {
   "cell_type": "code",
   "execution_count": 6,
   "id": "65725f10",
   "metadata": {},
   "outputs": [
    {
     "data": {
      "text/plain": [
       "False"
      ]
     },
     "execution_count": 6,
     "metadata": {},
     "output_type": "execute_result"
    }
   ],
   "source": [
    "array1 is array2  # 如果修改了数组的维度, 返回的是一个新的对象"
   ]
  },
  {
   "cell_type": "markdown",
   "id": "93c24921",
   "metadata": {},
   "source": [
    "* resize \n",
    "    - 基于数组的对象做修改形状"
   ]
  },
  {
   "cell_type": "code",
   "execution_count": 7,
   "id": "1c5ad908",
   "metadata": {},
   "outputs": [
    {
     "data": {
      "text/plain": [
       "array([[2, 3, 3, 3],\n",
       "       [3, 3, 2, 3],\n",
       "       [3, 3, 3, 2]])"
      ]
     },
     "execution_count": 7,
     "metadata": {},
     "output_type": "execute_result"
    }
   ],
   "source": [
    "array1"
   ]
  },
  {
   "cell_type": "code",
   "execution_count": 8,
   "id": "30063059",
   "metadata": {},
   "outputs": [
    {
     "name": "stdout",
     "output_type": "stream",
     "text": [
      "None\n"
     ]
    }
   ],
   "source": [
    "array3 = array1.resize(2, 6)\n",
    "print(array3)"
   ]
  },
  {
   "cell_type": "code",
   "execution_count": 9,
   "id": "3c1f6ff5",
   "metadata": {},
   "outputs": [
    {
     "data": {
      "text/plain": [
       "array([[2, 3, 3, 3, 3, 3],\n",
       "       [2, 3, 3, 3, 3, 2]])"
      ]
     },
     "execution_count": 9,
     "metadata": {},
     "output_type": "execute_result"
    }
   ],
   "source": [
    "array1"
   ]
  },
  {
   "cell_type": "markdown",
   "id": "d43efbee",
   "metadata": {},
   "source": [
    "## 降低数组的维度"
   ]
  },
  {
   "cell_type": "markdown",
   "id": "d8013a40",
   "metadata": {},
   "source": [
    "两个方法都是将多维数组转换为一维数组，但是有以下不同：\n",
    "\n",
    "1. `flatten`是将数组转换为一维数组后，然后将这个拷贝返回回去，所以后续对这个返回值进行修改不会影响之前的数组。\n",
    "2. `ravel`是将数组转换为一维数组后，将这个视图（可以理解为引用）返回回去，所以后续对这个返回值进行修改会影响之前的数组。\n",
    "   比如以下代码："
   ]
  },
  {
   "cell_type": "code",
   "execution_count": 10,
   "id": "cd2891be",
   "metadata": {},
   "outputs": [
    {
     "data": {
      "text/plain": [
       "array([[1, 2],\n",
       "       [3, 4]])"
      ]
     },
     "execution_count": 10,
     "metadata": {},
     "output_type": "execute_result"
    }
   ],
   "source": [
    "x = np.array([ [1, 2], [3, 4] ])\n",
    "x"
   ]
  },
  {
   "cell_type": "code",
   "execution_count": 11,
   "id": "301f32fc",
   "metadata": {},
   "outputs": [
    {
     "name": "stdout",
     "output_type": "stream",
     "text": [
      "x  --> flatten: [1 2 3 4]\n",
      "修改x2的结果:  [100   2   3   4]\n",
      "[[1 2]\n",
      " [3 4]]\n"
     ]
    }
   ],
   "source": [
    "\"\"\"\n",
    "flatten  降低数组维度(高维 --> 一维), 会返回一个新的对象\n",
    "\"\"\"\n",
    "x2 = x.flatten()\n",
    "\n",
    "print('x  --> flatten:', x2)\n",
    "\n",
    "x2[0] = 100\n",
    "print('修改x2的结果: ', x2)\n",
    "\n",
    "print(x)"
   ]
  },
  {
   "cell_type": "code",
   "execution_count": 12,
   "id": "3241904f",
   "metadata": {},
   "outputs": [
    {
     "name": "stdout",
     "output_type": "stream",
     "text": [
      "x  --> ravel: [1 2 3 4]\n",
      "修改x2的结果:  [100   2   3   4]\n",
      "[[100   2]\n",
      " [  3   4]]\n"
     ]
    }
   ],
   "source": [
    "\"\"\"\n",
    "ravel  降低数组维度(高维 --> 一维), 是基于原对象做修改\n",
    "\"\"\"\n",
    "x2 = x.ravel()\n",
    "\n",
    "print('x  --> ravel:', x2)\n",
    "\n",
    "x2[0] = 100\n",
    "print('修改x2的结果: ', x2)\n",
    "\n",
    "print(x)"
   ]
  },
  {
   "cell_type": "markdown",
   "id": "da238b17",
   "metadata": {},
   "source": [
    "## 行列转置"
   ]
  },
  {
   "cell_type": "markdown",
   "id": "fcf48310",
   "metadata": {},
   "source": [
    "- 数组的转置\n",
    "- 将数组的行、列进行互换"
   ]
  },
  {
   "cell_type": "code",
   "execution_count": 13,
   "id": "94b9b1f6",
   "metadata": {},
   "outputs": [
    {
     "data": {
      "text/plain": [
       "array([[1, 2],\n",
       "       [3, 4]])"
      ]
     },
     "execution_count": 13,
     "metadata": {},
     "output_type": "execute_result"
    }
   ],
   "source": [
    "x = np.array([ [1, 2], [3, 4] ])\n",
    "x"
   ]
  },
  {
   "cell_type": "code",
   "execution_count": 14,
   "id": "59fec05e",
   "metadata": {},
   "outputs": [
    {
     "data": {
      "text/plain": [
       "array([[1, 3],\n",
       "       [2, 4]])"
      ]
     },
     "execution_count": 14,
     "metadata": {},
     "output_type": "execute_result"
    }
   ],
   "source": [
    "x.T"
   ]
  },
  {
   "cell_type": "code",
   "execution_count": 15,
   "id": "df5a7536",
   "metadata": {},
   "outputs": [
    {
     "data": {
      "text/plain": [
       "array([[1, 1],\n",
       "       [2, 2],\n",
       "       [3, 3],\n",
       "       [4, 4],\n",
       "       [5, 5]])"
      ]
     },
     "execution_count": 15,
     "metadata": {},
     "output_type": "execute_result"
    }
   ],
   "source": [
    "np.array(\n",
    "    [ # 一维\n",
    "        [1, 2, 3, 4, 5],  # 二维\n",
    "        [1, 2, 3, 4, 5],  # 二维\n",
    "    ]\n",
    ").T"
   ]
  },
  {
   "cell_type": "markdown",
   "id": "2ea8ef22",
   "metadata": {},
   "source": [
    "## 数组的常用操作"
   ]
  },
  {
   "cell_type": "code",
   "execution_count": 16,
   "id": "d13e3618",
   "metadata": {},
   "outputs": [],
   "source": [
    "np_arr = np.array(\n",
    "    [ # 一维\n",
    "        [ # 二维\n",
    "            [80, 89, 86, 67, 79], # 三维\n",
    "            [78, 97, 89, 67, 81],\n",
    "            [90, 94, 78, 67, 74],\n",
    "            [91, 91, 90, 67, 69],\n",
    "            [76, 87, 75, 67, 86],\n",
    "            [70, 79, 84, 67, 84],\n",
    "            [94, 92, 93, 67, 64],\n",
    "            [86, 85, 83, 67, 80]\n",
    "        ],\n",
    "        \n",
    "        [ # 二维\n",
    "            [80, 89, 11, 67, 79], # 三维\n",
    "            [78, 97, 22, 67, 81],\n",
    "            [90, 94, 33, 67, 74],\n",
    "            [91, 91, 44, 67, 69],\n",
    "            [76, 87, 55, 67, 86],\n",
    "            [70, 79, 66, 67, 84],\n",
    "            [94, 92, 77, 67, 64],\n",
    "            [86, 85, 88, 67, 80]\n",
    "        ],\n",
    "    ]\n",
    ")"
   ]
  },
  {
   "cell_type": "code",
   "execution_count": 18,
   "id": "a31fa44f",
   "metadata": {},
   "outputs": [
    {
     "data": {
      "text/plain": [
       "55"
      ]
     },
     "execution_count": 18,
     "metadata": {},
     "output_type": "execute_result"
    }
   ],
   "source": [
    "np_arr[1][4][2]  # 单个数据的取值和列表索引取值是一样的"
   ]
  },
  {
   "cell_type": "code",
   "execution_count": 19,
   "id": "1690ec56",
   "metadata": {},
   "outputs": [
    {
     "data": {
      "text/plain": [
       "array([[90, 94, 33, 67, 74],\n",
       "       [91, 91, 44, 67, 69]])"
      ]
     },
     "execution_count": 19,
     "metadata": {},
     "output_type": "execute_result"
    }
   ],
   "source": [
    "np_arr[1][1:7][:][1:3]  # Python的原生列表不支持跨纬度切片"
   ]
  },
  {
   "cell_type": "markdown",
   "id": "f236f4d9",
   "metadata": {},
   "source": [
    "### 数组对象的切片(重点)"
   ]
  },
  {
   "cell_type": "markdown",
   "id": "8d40dbbe",
   "metadata": {},
   "source": [
    "- [一维, 二维, 三维]: 从1维开始切, 依次是2维, 3维, 4维 .......\n",
    "- 先行后列"
   ]
  },
  {
   "cell_type": "code",
   "execution_count": 21,
   "id": "e3398e12",
   "metadata": {},
   "outputs": [
    {
     "data": {
      "text/plain": [
       "array([[90, 94, 33, 67, 74],\n",
       "       [91, 91, 44, 67, 69]])"
      ]
     },
     "execution_count": 21,
     "metadata": {},
     "output_type": "execute_result"
    }
   ],
   "source": [
    "np_arr[1][1:7][:][1:3]  # 数组的切片和列表的切片有区别"
   ]
  },
  {
   "cell_type": "code",
   "execution_count": 24,
   "id": "9a7fe7b5",
   "metadata": {},
   "outputs": [
    {
     "data": {
      "text/plain": [
       "array([[[97, 22],\n",
       "        [94, 33],\n",
       "        [91, 44],\n",
       "        [87, 55],\n",
       "        [79, 66],\n",
       "        [92, 77]]])"
      ]
     },
     "execution_count": 24,
     "metadata": {},
     "output_type": "execute_result"
    }
   ],
   "source": [
    "\"\"\"\n",
    "    1:  --> 表示切一维\n",
    "    1:7 --> 表示切二维\n",
    "    1:3 --> 表示切三维\n",
    "\"\"\"\n",
    "np_arr[1:, 1:7, 1:3]"
   ]
  },
  {
   "cell_type": "code",
   "execution_count": 25,
   "id": "851317c4",
   "metadata": {},
   "outputs": [
    {
     "data": {
      "text/plain": [
       "array([[[97, 89],\n",
       "        [94, 78],\n",
       "        [91, 90],\n",
       "        [87, 75],\n",
       "        [79, 84],\n",
       "        [92, 93]],\n",
       "\n",
       "       [[97, 22],\n",
       "        [94, 33],\n",
       "        [91, 44],\n",
       "        [87, 55],\n",
       "        [79, 66],\n",
       "        [92, 77]]])"
      ]
     },
     "execution_count": 25,
     "metadata": {},
     "output_type": "execute_result"
    }
   ],
   "source": [
    "np_arr[:, 1:7, 1:3]"
   ]
  },
  {
   "cell_type": "markdown",
   "id": "8b5e3b1b",
   "metadata": {},
   "source": [
    "- 取值\n",
    "    - 可以用列表的索引取值\n",
    "    - 也可以用在一个 [] 内多维度取值"
   ]
  },
  {
   "cell_type": "code",
   "execution_count": 27,
   "id": "c453c2a3",
   "metadata": {},
   "outputs": [
    {
     "name": "stdout",
     "output_type": "stream",
     "text": [
      "75\n",
      "75\n"
     ]
    }
   ],
   "source": [
    "print(np_arr[0][4][2])  # 用列表的方式取值\n",
    "print(np_arr[0, 4, 2])  # 基于数组对象取值"
   ]
  },
  {
   "cell_type": "markdown",
   "id": "000e410f",
   "metadata": {},
   "source": [
    "* 单独取出数组中的某列"
   ]
  },
  {
   "cell_type": "code",
   "execution_count": 28,
   "id": "98d668aa",
   "metadata": {},
   "outputs": [
    {
     "data": {
      "text/plain": [
       "array([[11, 22, 33, 44, 55, 66, 77, 88]])"
      ]
     },
     "execution_count": 28,
     "metadata": {},
     "output_type": "execute_result"
    }
   ],
   "source": [
    "\"\"\"\n",
    "     可以指定具体的索引取某一列\n",
    "         返回的是一个二维数组\n",
    "\"\"\"\n",
    "np_arr[1:, :, 2]"
   ]
  },
  {
   "cell_type": "code",
   "execution_count": 29,
   "id": "560351b9",
   "metadata": {},
   "outputs": [
    {
     "data": {
      "text/plain": [
       "array([[[11],\n",
       "        [22],\n",
       "        [33],\n",
       "        [44],\n",
       "        [55],\n",
       "        [66],\n",
       "        [77],\n",
       "        [88]]])"
      ]
     },
     "execution_count": 29,
     "metadata": {},
     "output_type": "execute_result"
    }
   ],
   "source": [
    "\"\"\"\n",
    "     按照切片的方式, 指定范围\n",
    "         如果切某列, 返回数据的维度和本身数据的维度是一样的\n",
    "\"\"\"\n",
    "np_arr[1:, :, 2:3]"
   ]
  },
  {
   "cell_type": "code",
   "execution_count": 30,
   "id": "56161205",
   "metadata": {},
   "outputs": [
    {
     "data": {
      "text/plain": [
       "array([], shape=(1, 8, 0), dtype=int32)"
      ]
     },
     "execution_count": 30,
     "metadata": {},
     "output_type": "execute_result"
    }
   ],
   "source": [
    "np_arr[1:, :, 2:2]"
   ]
  },
  {
   "cell_type": "markdown",
   "id": "c7f56793",
   "metadata": {},
   "source": [
    "### 切割(了解)"
   ]
  },
  {
   "cell_type": "code",
   "execution_count": 31,
   "id": "f3641b98",
   "metadata": {},
   "outputs": [
    {
     "data": {
      "text/plain": [
       "array([[ 0,  1,  2,  3],\n",
       "       [ 4,  5,  6,  7],\n",
       "       [ 8,  9, 10, 11],\n",
       "       [12, 13, 14, 15]])"
      ]
     },
     "execution_count": 31,
     "metadata": {},
     "output_type": "execute_result"
    }
   ],
   "source": [
    "a1 = np.arange(16).reshape(4, 4)\n",
    "a1"
   ]
  },
  {
   "cell_type": "code",
   "execution_count": 33,
   "id": "43a7549b",
   "metadata": {},
   "outputs": [],
   "source": [
    "\"\"\"\n",
    "水平(按列)分割\n",
    "hsplit  将数组水平(按列)分割\n",
    "horizontal  水平\n",
    "\"\"\"\n",
    "\n",
    "sub_1, sub_2 = np.hsplit(a1, 2)"
   ]
  },
  {
   "cell_type": "code",
   "execution_count": 34,
   "id": "2830859a",
   "metadata": {},
   "outputs": [
    {
     "data": {
      "text/plain": [
       "array([[ 0,  1],\n",
       "       [ 4,  5],\n",
       "       [ 8,  9],\n",
       "       [12, 13]])"
      ]
     },
     "execution_count": 34,
     "metadata": {},
     "output_type": "execute_result"
    }
   ],
   "source": [
    "sub_1"
   ]
  },
  {
   "cell_type": "code",
   "execution_count": 35,
   "id": "f1abdcb7",
   "metadata": {},
   "outputs": [
    {
     "data": {
      "text/plain": [
       "array([[ 2,  3],\n",
       "       [ 6,  7],\n",
       "       [10, 11],\n",
       "       [14, 15]])"
      ]
     },
     "execution_count": 35,
     "metadata": {},
     "output_type": "execute_result"
    }
   ],
   "source": [
    "sub_2"
   ]
  },
  {
   "cell_type": "code",
   "execution_count": 37,
   "id": "f564bddd",
   "metadata": {},
   "outputs": [
    {
     "data": {
      "text/plain": [
       "[array([[ 0],\n",
       "        [ 4],\n",
       "        [ 8],\n",
       "        [12]]),\n",
       " array([[ 1],\n",
       "        [ 5],\n",
       "        [ 9],\n",
       "        [13]]),\n",
       " array([[ 2,  3],\n",
       "        [ 6,  7],\n",
       "        [10, 11],\n",
       "        [14, 15]])]"
      ]
     },
     "execution_count": 37,
     "metadata": {},
     "output_type": "execute_result"
    }
   ],
   "source": [
    "np.hsplit(a1, (1, 2))  # # 需要分割多次就传一个列表, 列表里面传分割的列索引"
   ]
  },
  {
   "cell_type": "code",
   "execution_count": 40,
   "id": "1cfdef68",
   "metadata": {},
   "outputs": [
    {
     "data": {
      "text/plain": [
       "array([[ 0,  1,  2,  3,  4],\n",
       "       [ 5,  6,  7,  8,  9],\n",
       "       [10, 11, 12, 13, 14]])"
      ]
     },
     "execution_count": 40,
     "metadata": {},
     "output_type": "execute_result"
    }
   ],
   "source": [
    "a2 = np.arange(15).reshape((3, 5))\n",
    "a2"
   ]
  },
  {
   "cell_type": "code",
   "execution_count": 46,
   "id": "981d7980",
   "metadata": {},
   "outputs": [
    {
     "data": {
      "text/plain": [
       "[array([[0, 1, 2, 3]]),\n",
       " array([[4, 5, 6, 7]]),\n",
       " array([[ 8,  9, 10, 11],\n",
       "        [12, 13, 14, 15]])]"
      ]
     },
     "execution_count": 46,
     "metadata": {},
     "output_type": "execute_result"
    }
   ],
   "source": [
    "\"\"\"\n",
    "垂直(按行)分割\n",
    "vsplit  将数组水平(按列)分割\n",
    "vertical  垂直\n",
    "\"\"\"\n",
    "\n",
    "np.vsplit(a1, [1, 2])"
   ]
  },
  {
   "cell_type": "markdown",
   "id": "0caf9282",
   "metadata": {},
   "source": [
    "### 数组的拼接(了解)"
   ]
  },
  {
   "cell_type": "code",
   "execution_count": 47,
   "id": "e2f391f1",
   "metadata": {},
   "outputs": [
    {
     "name": "stdout",
     "output_type": "stream",
     "text": [
      "a1:\n",
      " [[0 1 2 3 4]\n",
      " [5 6 7 8 9]]\n",
      "a2:\n",
      " [[10 11 12 13 14]\n",
      " [15 16 17 18 19]]\n"
     ]
    }
   ],
   "source": [
    "\"\"\"准备数据\"\"\"\n",
    "a1 = np.arange(0, 10).reshape(2, 5)\n",
    "a2 = np.arange(10, 20).reshape(2, 5)\n",
    "print('a1:\\n', a1)\n",
    "print('a2:\\n', a2)"
   ]
  },
  {
   "cell_type": "code",
   "execution_count": 48,
   "id": "f2e53949",
   "metadata": {},
   "outputs": [
    {
     "data": {
      "text/plain": [
       "array([[ 0,  1,  2,  3,  4],\n",
       "       [ 5,  6,  7,  8,  9],\n",
       "       [10, 11, 12, 13, 14],\n",
       "       [15, 16, 17, 18, 19]])"
      ]
     },
     "execution_count": 48,
     "metadata": {},
     "output_type": "execute_result"
    }
   ],
   "source": [
    "\"\"\"垂直拼接(竖向拼接)\"\"\"\n",
    "np.vstack([a1, a2])"
   ]
  },
  {
   "cell_type": "code",
   "execution_count": 49,
   "id": "3c29711a",
   "metadata": {},
   "outputs": [
    {
     "data": {
      "text/plain": [
       "array([[ 0,  1,  2,  3,  4, 10, 11, 12, 13, 14],\n",
       "       [ 5,  6,  7,  8,  9, 15, 16, 17, 18, 19]])"
      ]
     },
     "execution_count": 49,
     "metadata": {},
     "output_type": "execute_result"
    }
   ],
   "source": [
    "\"\"\"左右拼接(横向拼接)\"\"\"\n",
    "np.hstack([a1, a2])"
   ]
  },
  {
   "cell_type": "code",
   "execution_count": 55,
   "id": "a738b9a6",
   "metadata": {},
   "outputs": [
    {
     "name": "stderr",
     "output_type": "stream",
     "text": [
      "<ipython-input-55-7da3b662ecc7>:1: VisibleDeprecationWarning: Creating an ndarray from ragged nested sequences (which is a list-or-tuple of lists-or-tuples-or ndarrays with different lengths or shapes) is deprecated. If you meant to do this, you must specify 'dtype=object' when creating the ndarray.\n",
      "  np.array(\n"
     ]
    },
    {
     "data": {
      "text/plain": [
       "array([list([0, 1, 2, 3, 4, 10]), list([5, 6, 7, 8, 9])], dtype=object)"
      ]
     },
     "execution_count": 55,
     "metadata": {},
     "output_type": "execute_result"
    }
   ],
   "source": [
    "np.array( \n",
    "    [\n",
    "        [0, 1, 2, 3, 4, 10],\n",
    "        [5, 6, 7, 8, 9]\n",
    "    ]\n",
    ")"
   ]
  },
  {
   "cell_type": "markdown",
   "id": "a2aa75ca",
   "metadata": {},
   "source": [
    "## 数组的广播机制(重点)"
   ]
  },
  {
   "cell_type": "code",
   "execution_count": 57,
   "id": "bdf8732b",
   "metadata": {},
   "outputs": [
    {
     "name": "stdout",
     "output_type": "stream",
     "text": [
      "[1, 2, 3, 1]\n"
     ]
    }
   ],
   "source": [
    "\"\"\"原生列表的计算\"\"\"\n",
    "arr = [1, 2, 3]\n",
    "\n",
    "# print(arr + 1)  # # 原生列表维度不同， 不支持运算\n",
    "print(arr + [1])  # 维度相同, 在原有列表后面添加"
   ]
  },
  {
   "cell_type": "code",
   "execution_count": 61,
   "id": "9cc51ce2",
   "metadata": {},
   "outputs": [
    {
     "name": "stdout",
     "output_type": "stream",
     "text": [
      "np_arr1,shape:\t (3,)\n",
      "np_arr1 + 1: \n",
      " [2 3 4]\n",
      "np_arr1 + 1: \n",
      " [1 4 9]\n"
     ]
    }
   ],
   "source": [
    "np_arr1 = np.array(arr)\n",
    "print('np_arr1,shape:\\t', np_arr1.shape)\n",
    "\n",
    "print('np_arr1 + 1: \\n', np_arr1 + 1)\n",
    "print('np_arr1 ** 2\\n', np_arr1 ** 2)"
   ]
  },
  {
   "cell_type": "code",
   "execution_count": 66,
   "id": "a47381d0",
   "metadata": {},
   "outputs": [
    {
     "data": {
      "text/plain": [
       "array([[1, 2, 3, 4],\n",
       "       [2, 3, 4, 5],\n",
       "       [3, 4, 5, 6]])"
      ]
     },
     "execution_count": 66,
     "metadata": {},
     "output_type": "execute_result"
    }
   ],
   "source": [
    "np_arr2 = np.array([0, 1, 2, 3])\n",
    "\n",
    "np_arr3 = np.array([[1], [2], [3]])\n",
    "\n",
    "np_arr4 = np.array([1, 2, 3])\n",
    "\n",
    "np_arr2 + np_arr3\n",
    "\n",
    "# np_arr2 + np_arr4\n",
    "\n",
    "# 基于数组的广播机制, 如果两个数组能广播, 就能计算"
   ]
  },
  {
   "cell_type": "raw",
   "id": "1e4be2e1",
   "metadata": {},
   "source": [
    "广播机制实现了时两个或两个以上数组的运算，即使这些数组的shape不是完全相同的，只需要满足如下任意一个条件即可。\n",
    "\n",
    "- 1.数组的某一维度等长。\n",
    "- 2.其中一个数组的某一维度数据长度为1 "
   ]
  },
  {
   "cell_type": "code",
   "execution_count": 76,
   "id": "89dc44b4",
   "metadata": {},
   "outputs": [
    {
     "name": "stdout",
     "output_type": "stream",
     "text": [
      "[[ 6  8  4  4  4  5]\n",
      " [10 12  2  4  6  2]]\n"
     ]
    },
    {
     "data": {
      "text/plain": [
       "(2, 6)"
      ]
     },
     "execution_count": 76,
     "metadata": {},
     "output_type": "execute_result"
    }
   ],
   "source": [
    "arr1 = np.array([[1, 2, 3, 2, 1, 4], [5, 6, 1, 2, 3, 1]])\n",
    "arr2 = np.array([[5, 6, 1, 2, 3, 1]])\n",
    "\n",
    "print(arr1 + arr2)\n",
    "\n",
    "arr1.shape"
   ]
  },
  {
   "cell_type": "code",
   "execution_count": 74,
   "id": "dc76595b",
   "metadata": {},
   "outputs": [
    {
     "data": {
      "text/plain": [
       "(3, 6)"
      ]
     },
     "execution_count": 74,
     "metadata": {},
     "output_type": "execute_result"
    }
   ],
   "source": [
    "arr2.shape"
   ]
  },
  {
   "cell_type": "markdown",
   "id": "9569cc0a",
   "metadata": {},
   "source": [
    "## 通用函数(重点)"
   ]
  },
  {
   "cell_type": "code",
   "execution_count": 78,
   "id": "d058ffc3",
   "metadata": {},
   "outputs": [
    {
     "data": {
      "text/plain": [
       "array([-5., -4., -3., -2., -1.,  0.,  1.,  2.,  3.,  4.,  5., nan])"
      ]
     },
     "execution_count": 78,
     "metadata": {},
     "output_type": "execute_result"
    }
   ],
   "source": [
    "\n",
    "arr = np.array([-5, -4, -3, -2, -1, 0, 1, 2, 3, 4, 5, np.nan])  # 表示空值, 相当于None\n",
    "arr"
   ]
  },
  {
   "cell_type": "code",
   "execution_count": 81,
   "id": "d21f1d09",
   "metadata": {},
   "outputs": [
    {
     "name": "stdout",
     "output_type": "stream",
     "text": [
      "[ 5.  4.  3.  2.  1.  0.  1.  2.  3.  4.  5. nan]\n"
     ]
    },
    {
     "data": {
      "text/plain": [
       "array([25., 16.,  9.,  4.,  1.,  0.,  1.,  4.,  9., 16., 25., nan])"
      ]
     },
     "execution_count": 81,
     "metadata": {},
     "output_type": "execute_result"
    }
   ],
   "source": [
    "\"\"\"一元函数\"\"\"\n",
    "print(abs(arr))\n",
    "np.abs(arr)  # 推荐用numpy的计算方法\n",
    "np.square(arr)"
   ]
  },
  {
   "cell_type": "code",
   "execution_count": 82,
   "id": "cc8ac1ce",
   "metadata": {},
   "outputs": [
    {
     "data": {
      "text/plain": [
       "array([False, False, False, False, False, False, False, False, False,\n",
       "       False, False,  True])"
      ]
     },
     "execution_count": 82,
     "metadata": {},
     "output_type": "execute_result"
    }
   ],
   "source": [
    "# nan  --> not a number  # 是一种数据病毒\n",
    "# np.isnan  判断数组中的缺失值,, 返回布尔结果\n",
    "np.isnan(arr)"
   ]
  },
  {
   "cell_type": "code",
   "execution_count": 86,
   "id": "b3024df5",
   "metadata": {},
   "outputs": [
    {
     "data": {
      "text/plain": [
       "array([0.16666667, 0.28571429, 0.375     , 0.44444444, 0.5       ])"
      ]
     },
     "execution_count": 86,
     "metadata": {},
     "output_type": "execute_result"
    }
   ],
   "source": [
    "\"\"\"二元函数\"\"\"\n",
    "arr1 = np.array([1, 2, 3, 4, 5])\n",
    "arr2 = np.array([6, 7, 8, 9, 10])\n",
    "\n",
    "np.add(arr1, arr2)\n",
    "np.subtract(arr1, arr2)  # 第一个数组减去第二个数数组\n",
    "np.multiply(arr1 , arr2)\n",
    "np.divide(arr1, arr2)"
   ]
  },
  {
   "cell_type": "code",
   "execution_count": 92,
   "id": "715af603",
   "metadata": {},
   "outputs": [
    {
     "name": "stdout",
     "output_type": "stream",
     "text": [
      "[False False  True  True  True]\n",
      "[False False  True False False]\n",
      "[ True  True False  True  True]\n"
     ]
    }
   ],
   "source": [
    "\"\"\"逻辑运算\"\"\"  # & 表示and  ~ 取反  | 或\n",
    "arr1 = np.array([1, 2, 3, 4, 5])\n",
    "print( arr1 > 2 )\n",
    "print( (arr1 > 2) & (arr1 < 4) )\n",
    "# print( (arr1 > 2) and (arr1 < 4) )  # 在numpy中不支持Python逻辑运算符号\n",
    "print( ~((arr1 > 2) & (arr1 < 4)) )"
   ]
  },
  {
   "cell_type": "code",
   "execution_count": 95,
   "id": "9b79fd0c",
   "metadata": {},
   "outputs": [
    {
     "data": {
      "text/plain": [
       "5"
      ]
     },
     "execution_count": 95,
     "metadata": {},
     "output_type": "execute_result"
    }
   ],
   "source": [
    "\"\"\"聚合函数\"\"\"\n",
    "np.sum(arr1)\n",
    "arr1.prod()\n",
    "arr1.max()"
   ]
  },
  {
   "cell_type": "markdown",
   "id": "beb34185",
   "metadata": {},
   "source": [
    "## array的轴(重点)"
   ]
  },
  {
   "cell_type": "code",
   "execution_count": 96,
   "id": "0af14ab6",
   "metadata": {},
   "outputs": [
    {
     "data": {
      "text/plain": [
       "array([[1, 1, 1, 1, 1, 1],\n",
       "       [5, 6, 1, 2, 3, 1],\n",
       "       [5, 6, 1, 2, 3, 1],\n",
       "       [5, 6, 1, 2, 3, 1]])"
      ]
     },
     "execution_count": 96,
     "metadata": {},
     "output_type": "execute_result"
    }
   ],
   "source": [
    "arr = np.array([[1, 1, 1, 1, 1, 1],\n",
    "                [5, 6, 1, 2, 3, 1],\n",
    "                [5, 6, 1, 2, 3, 1],\n",
    "                [5, 6, 1, 2, 3, 1]])\n",
    "\n",
    "arr"
   ]
  },
  {
   "cell_type": "code",
   "execution_count": 97,
   "id": "5e004394",
   "metadata": {},
   "outputs": [
    {
     "data": {
      "text/plain": [
       "60"
      ]
     },
     "execution_count": 97,
     "metadata": {},
     "output_type": "execute_result"
    }
   ],
   "source": [
    "# 默认把每一个数据都参数运算\n",
    "arr.sum()"
   ]
  },
  {
   "cell_type": "code",
   "execution_count": 98,
   "id": "de8554de",
   "metadata": {},
   "outputs": [
    {
     "data": {
      "text/plain": [
       "array([16, 19,  4,  7, 10,  4])"
      ]
     },
     "execution_count": 98,
     "metadata": {},
     "output_type": "execute_result"
    }
   ],
   "source": [
    "# axis=0  按行计算, 得到的值(求列)\n",
    "arr.sum(axis=0)\n",
    "\n",
    "\"\"\"\n",
    "后续大部分方法 axis=0 , 是按列计算(操作)\n",
    "\"\"\""
   ]
  },
  {
   "cell_type": "code",
   "execution_count": 99,
   "id": "d53a334a",
   "metadata": {},
   "outputs": [
    {
     "data": {
      "text/plain": [
       "array([ 6, 18, 18, 18])"
      ]
     },
     "execution_count": 99,
     "metadata": {},
     "output_type": "execute_result"
    }
   ],
   "source": [
    "# axis=1  按列计算, 得到的值(求行)\n",
    "arr.sum(axis=1)"
   ]
  },
  {
   "cell_type": "markdown",
   "id": "b6493a99",
   "metadata": {},
   "source": [
    "## 花哨索引(重点)"
   ]
  },
  {
   "cell_type": "code",
   "execution_count": 103,
   "id": "c1d1d6eb",
   "metadata": {},
   "outputs": [
    {
     "data": {
      "text/plain": [
       "array([False,  True,  True,  True, False])"
      ]
     },
     "execution_count": 103,
     "metadata": {},
     "output_type": "execute_result"
    }
   ],
   "source": [
    "arr1 = np.array([1, 2, 3, 4, 5])\n",
    "\n",
    "result = np.logical_and(arr1 >= 2, arr1 < 5)\n",
    "result"
   ]
  },
  {
   "cell_type": "code",
   "execution_count": 104,
   "id": "0922175a",
   "metadata": {},
   "outputs": [
    {
     "data": {
      "text/plain": [
       "array([2, 3, 4])"
      ]
     },
     "execution_count": 104,
     "metadata": {},
     "output_type": "execute_result"
    }
   ],
   "source": [
    "# 把布尔结果, 用于筛选数据取值, 叫做花哨索引\n",
    "arr1[result]"
   ]
  },
  {
   "cell_type": "code",
   "execution_count": 105,
   "id": "e8816396",
   "metadata": {},
   "outputs": [
    {
     "data": {
      "text/plain": [
       "array([1, 5])"
      ]
     },
     "execution_count": 105,
     "metadata": {},
     "output_type": "execute_result"
    }
   ],
   "source": [
    "arr1[~result]  # ~ 取反"
   ]
  },
  {
   "cell_type": "markdown",
   "id": "46829992",
   "metadata": {},
   "source": [
    "## numpy文件操作"
   ]
  },
  {
   "cell_type": "code",
   "execution_count": 108,
   "id": "d025b342",
   "metadata": {},
   "outputs": [
    {
     "data": {
      "text/plain": [
       "array([[5, 3, 2, 8],\n",
       "       [9, 3, 8, 4],\n",
       "       [4, 7, 1, 1],\n",
       "       [8, 9, 1, 5],\n",
       "       [2, 3, 1, 9]])"
      ]
     },
     "execution_count": 108,
     "metadata": {},
     "output_type": "execute_result"
    }
   ],
   "source": [
    "np.loadtxt('a.csv', dtype=int, delimiter=',')"
   ]
  },
  {
   "cell_type": "code",
   "execution_count": 112,
   "id": "ca6d186f",
   "metadata": {},
   "outputs": [
    {
     "data": {
      "text/plain": [
       "array([[4., 7., 1., 1.],\n",
       "       [8., 9., 1., 5.],\n",
       "       [2., 3., 1., 9.]])"
      ]
     },
     "execution_count": 112,
     "metadata": {},
     "output_type": "execute_result"
    }
   ],
   "source": [
    "data = np.loadtxt('a.csv', dtype=float, delimiter=',', skiprows=2)  # skiprows 忽略指定数字的行数读取\n",
    "data"
   ]
  },
  {
   "cell_type": "code",
   "execution_count": 111,
   "id": "3af772bb",
   "metadata": {},
   "outputs": [],
   "source": [
    "np.savetxt('a-save.csv', data, delimiter=',')"
   ]
  },
  {
   "cell_type": "code",
   "execution_count": null,
   "id": "722dc0c6",
   "metadata": {},
   "outputs": [],
   "source": []
  }
 ],
 "metadata": {
  "kernelspec": {
   "display_name": "Python 3",
   "language": "python",
   "name": "python3"
  },
  "language_info": {
   "codemirror_mode": {
    "name": "ipython",
    "version": 3
   },
   "file_extension": ".py",
   "mimetype": "text/x-python",
   "name": "python",
   "nbconvert_exporter": "python",
   "pygments_lexer": "ipython3",
   "version": "3.8.8"
  },
  "toc": {
   "base_numbering": 1,
   "nav_menu": {},
   "number_sections": true,
   "sideBar": true,
   "skip_h1_title": false,
   "title_cell": "Table of Contents",
   "title_sidebar": "Contents",
   "toc_cell": false,
   "toc_position": {
    "height": "calc(100% - 180px)",
    "left": "10px",
    "top": "150px",
    "width": "232.804px"
   },
   "toc_section_display": true,
   "toc_window_display": true
  }
 },
 "nbformat": 4,
 "nbformat_minor": 5
}
