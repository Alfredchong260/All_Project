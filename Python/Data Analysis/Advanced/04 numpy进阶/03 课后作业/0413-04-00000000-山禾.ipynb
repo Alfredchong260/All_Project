{
 "cells": [
  {
   "cell_type": "markdown",
   "id": "fd613076",
   "metadata": {},
   "source": [
    "# 作业1"
   ]
  },
  {
   "cell_type": "raw",
   "id": "6b6aa026",
   "metadata": {},
   "source": [
    "project.json 里面是三个小组所完成项目的信息， 请将业绩作为Y轴，成本作为X轴，以小组作为标签，绘制三个小组的散点图\n",
    "\n",
    "（将数据转化为numpy 数组之后进行绘制）\n"
   ]
  },
  {
   "cell_type": "code",
   "execution_count": null,
   "id": "d14046e6",
   "metadata": {},
   "outputs": [],
   "source": []
  },
  {
   "cell_type": "markdown",
   "id": "caf1684d",
   "metadata": {},
   "source": [
    "# 作业2"
   ]
  },
  {
   "cell_type": "raw",
   "id": "30360245",
   "metadata": {},
   "source": [
    "stock_day.csv 是股票数据,请用numpy读取后完成以下需求\n",
    "\n",
    "    1. 获取股票的前3个交易日的收盘价格\n",
    "    2. 获取日期，最高价，收盘价，最低价"
   ]
  },
  {
   "cell_type": "code",
   "execution_count": null,
   "id": "16662b1d",
   "metadata": {},
   "outputs": [],
   "source": []
  },
  {
   "cell_type": "code",
   "execution_count": null,
   "id": "90c0b5a9",
   "metadata": {},
   "outputs": [],
   "source": []
  }
 ],
 "metadata": {
  "kernelspec": {
   "display_name": "Python 3",
   "language": "python",
   "name": "python3"
  },
  "language_info": {
   "codemirror_mode": {
    "name": "ipython",
    "version": 3
   },
   "file_extension": ".py",
   "mimetype": "text/x-python",
   "name": "python",
   "nbconvert_exporter": "python",
   "pygments_lexer": "ipython3",
   "version": "3.8.8"
  },
  "toc": {
   "base_numbering": 1,
   "nav_menu": {},
   "number_sections": true,
   "sideBar": true,
   "skip_h1_title": false,
   "title_cell": "Table of Contents",
   "title_sidebar": "Contents",
   "toc_cell": false,
   "toc_position": {},
   "toc_section_display": true,
   "toc_window_display": false
  }
 },
 "nbformat": 4,
 "nbformat_minor": 5
}
