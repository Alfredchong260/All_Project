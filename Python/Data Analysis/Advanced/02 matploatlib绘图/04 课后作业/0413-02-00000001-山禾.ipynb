{
 "cells": [
  {
   "cell_type": "markdown",
   "id": "b1fc43c0",
   "metadata": {},
   "source": [
    "# 作业1"
   ]
  },
  {
   "cell_type": "raw",
   "id": "ebddca3b",
   "metadata": {},
   "source": [
    "\"\"\"\n",
    "以下数据是 XX某企业 在1991-1999年的营业额，单位为亿。请你用折线图绘制出来\n",
    "\"\"\"\n",
    "\n",
    "data = [\n",
    "    {'year': '1991', 'value': 3},\n",
    "    {'year': '1992', 'value': 4},\n",
    "    {'year': '1993', 'value': 3.5},\n",
    "    {'year': '1994', 'value': 5},\n",
    "    {'year': '1995', 'value': 4.9},\n",
    "    {'year': '1996', 'value': 6},\n",
    "    {'year': '1997', 'value': 7},\n",
    "    {'year': '1998', 'value': 9},\n",
    "    {'year': '1999', 'value': 13},\n",
    "]\n",
    "\"\"\"请在下方单元格中编辑代码\"\"\""
   ]
  },
  {
   "cell_type": "code",
   "execution_count": 14,
   "id": "c3339b5b",
   "metadata": {},
   "outputs": [],
   "source": []
  },
  {
   "cell_type": "code",
   "execution_count": null,
   "id": "8d5415dd",
   "metadata": {},
   "outputs": [],
   "source": []
  },
  {
   "cell_type": "markdown",
   "id": "7af4d938",
   "metadata": {},
   "source": [
    "# 作业2"
   ]
  },
  {
   "cell_type": "raw",
   "id": "04b069d7",
   "metadata": {},
   "source": [
    "goods.json 里面存放了某几个城市的商品生成数据，单位为吨。请用条形分组图、条形堆叠图绘制出来。\n",
    "\n",
    "\"\"\"请在下方单元格中编辑代码\"\"\""
   ]
  },
  {
   "cell_type": "code",
   "execution_count": null,
   "id": "d793d33f",
   "metadata": {},
   "outputs": [],
   "source": []
  },
  {
   "cell_type": "code",
   "execution_count": null,
   "id": "86dcf297",
   "metadata": {},
   "outputs": [],
   "source": []
  }
 ],
 "metadata": {
  "kernelspec": {
   "display_name": "Python 3",
   "language": "python",
   "name": "python3"
  },
  "language_info": {
   "codemirror_mode": {
    "name": "ipython",
    "version": 3
   },
   "file_extension": ".py",
   "mimetype": "text/x-python",
   "name": "python",
   "nbconvert_exporter": "python",
   "pygments_lexer": "ipython3",
   "version": "3.8.8"
  },
  "toc": {
   "base_numbering": 1,
   "nav_menu": {},
   "number_sections": true,
   "sideBar": true,
   "skip_h1_title": false,
   "title_cell": "Table of Contents",
   "title_sidebar": "Contents",
   "toc_cell": false,
   "toc_position": {},
   "toc_section_display": true,
   "toc_window_display": true
  }
 },
 "nbformat": 4,
 "nbformat_minor": 5
}
